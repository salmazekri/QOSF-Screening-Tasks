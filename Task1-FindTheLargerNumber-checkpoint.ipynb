{
 "cells": [
  {
   "cell_type": "markdown",
   "id": "46947d39",
   "metadata": {},
   "source": [
    "# Find The Larger Number"
   ]
  },
  {
   "cell_type": "markdown",
   "id": "a21c40c5",
   "metadata": {},
   "source": [
    "Hello, I am Salma. \n",
    "Please find below my implementation for task 1 annexed to its documentation."
   ]
  },
  {
   "cell_type": "markdown",
   "id": "c079d7ec",
   "metadata": {},
   "source": [
    "# Code"
   ]
  },
  {
   "cell_type": "code",
   "execution_count": 4,
   "id": "849801f4-7767-4dd2-96ce-34940b9a59a3",
   "metadata": {},
   "outputs": [
    {
     "name": "stdout",
     "output_type": "stream",
     "text": [
      "8\n",
      "10\n",
      "6\n"
     ]
    }
   ],
   "source": [
    "from qiskit import QuantumCircuit, QuantumRegister, ClassicalRegister, Aer\n",
    "\n",
    "def find_the_largest_number(number_1, number_2):\n",
    "    # Determine the number of qubits required to represent the input numbers\n",
    "    num_qubits = max(len(bin(number_1)) - 2, len(bin(number_2)) - 2)\n",
    "\n",
    "    # Create three quantum registers: one for each input number and one for the result of subtraction\n",
    "    num_1_reg = QuantumRegister(num_qubits, name='num_1')\n",
    "    num_2_reg = QuantumRegister(num_qubits, name='num_2')\n",
    "    result_reg = QuantumRegister(num_qubits + 1, name='result')\n",
    "    # Create a classical register to store the measurement results\n",
    "    classical_reg = ClassicalRegister(1, name='classical')\n",
    "\n",
    "    # Create a quantum circuit\n",
    "    circuit = QuantumCircuit(num_1_reg, num_2_reg, result_reg, classical_reg)\n",
    "\n",
    "    # Encode the input numbers using basis encoding\n",
    "    for i in range(num_qubits):\n",
    "        if (number_1 >> i) & 1:\n",
    "            circuit.x(num_1_reg[num_qubits - 1 - i])\n",
    "        if (number_2 >> i) & 1:\n",
    "            circuit.x(num_2_reg[num_qubits - 1 - i])\n",
    "\n",
    "    # Subtract the second number from the first number using a quantum ripple-carry subtractor\n",
    "    for i in range(num_qubits):\n",
    "        circuit.ccx(num_1_reg[i], num_2_reg[i], result_reg[i + 1])\n",
    "        circuit.cx(num_1_reg[i], num_2_reg[i])\n",
    "        circuit.ccx(result_reg[i], num_2_reg[i], num_1_reg[i])\n",
    "        circuit.cx(result_reg[i], num_2_reg[i])\n",
    "        circuit.cx(result_reg[i], result_reg[i + 1])\n",
    "        circuit.ccx(num_1_reg[i], num_2_reg[i], result_reg[i + 1])\n",
    "\n",
    "    # Check if the carry bit is set in the result of subtraction\n",
    "    circuit.measure(result_reg[num_qubits], classical_reg[0])\n",
    "\n",
    "    # Simulate the circuit and obtain the measurement results\n",
    "    backend = Aer.get_backend('qasm_simulator')\n",
    "    result = backend.run(circuit, shots=1).result()\n",
    "    measurement = int(result.get_counts(circuit).most_frequent(), 2)\n",
    "\n",
    "    # Determine which number is larger based on the measurement result\n",
    "    if result_reg[num_qubits] == 1:\n",
    "        return number_1\n",
    "    else:\n",
    "        return number_2\n",
    "print(find_the_largest_number(5,8))\n",
    "print(find_the_largest_number(1,10))\n",
    "print(find_the_largest_number(6,6))"
   ]
  },
  {
   "cell_type": "markdown",
   "id": "7b9db5e9",
   "metadata": {},
   "source": [
    "# Approach"
   ]
  },
  {
   "cell_type": "markdown",
   "id": "c6365977",
   "metadata": {},
   "source": [
    "This function, implemented using the Qiskit quantum computing library, aims to find the largest number out of two given numbers. The function takes two integer inputs, number_1 and number_2, representing the two numbers to compare.\n",
    "\n",
    "The function uses a quantum algorithm called a quantum ripple-carry subtractor to subtract the second number from the first number. The result of this subtraction is then compared to zero, and if the result is greater than zero, number_1 is returned. Otherwise, number_2 is returned.\n",
    "\n",
    "The implementation first determines the number of qubits required to represent the input numbers. Then it creates three quantum registers, one for each input number and one for the result of the subtraction. It also creates a classical register to store the measurement results. The function then encodes the input numbers using basis encoding, which involves applying an X gate to the qubits corresponding to a 1 in the binary representation of the number.\n",
    "\n",
    "The quantum ripple-carry subtractor is implemented using a series of controlled-NOT (CNOT) and controlled-controlled-NOT (CCX) gates, which are used to perform arithmetic operations on the quantum registers. The implementation uses a method known as ripple-carry subtraction, where the subtraction is performed bit by bit, with each bit borrowing from the next bit if necessary.\n",
    "\n",
    "Finally, the result is measured and the most frequent measurement outcome is determined. If the outcome corresponds to result_reg[num_qubits] == 1, the function returns number_1, otherwise it returns number_2. \n",
    "\n",
    "Overall, the function showcases how quantum computing can be used to perform certain mathematical operations in a faster and more efficient way than classical computers, especially for certain types of problems."
   ]
  },
  {
   "cell_type": "markdown",
   "id": "584818ea",
   "metadata": {},
   "source": [
    "# Documentation"
   ]
  },
  {
   "cell_type": "markdown",
   "id": "430fd513",
   "metadata": {},
   "source": [
    "Let's go through the code step by step:\n",
    "\n",
    "Function: `find_the_largest_number(number_1, number_2)`\n",
    "\n",
    "This function takes two integers as input, and returns the larger of the two. \n",
    "It does this by subtracting the second number from the first number using a quantum ripple-carry subtractor, \n",
    "and then checking if the carry bit is set in the result of the subtraction. \n",
    "The function uses Qiskit, a Python library for quantum computing, to create a quantum circuit to perform the subtraction and obtain the measurement results.\n",
    "\n",
    "Parameters:\n",
    "- `number_1` (int): The first input number.\n",
    "- `number_2` (int): The second input number.\n",
    "\n",
    "Returns:\n",
    "- `largest` (int): The larger of the two input numbers.\n",
    "\n",
    "Algorithm:\n",
    "1. Determine the number of qubits required to represent the input numbers. This is done by taking the maximum number of bits needed to represent either input number.\n",
    "2. Create three quantum registers: `num_1_reg`, `num_2_reg`, and `result_reg`. `num_1_reg` and `num_2_reg` will each contain `num_qubits` qubits, and `result_reg` will contain `num_qubits+1` qubits. Also create a classical register `classical_reg` with one bit to store the measurement results.\n",
    "3. Create a quantum circuit `circuit` with the three quantum registers and the classical register.\n",
    "4. Convert the input numbers into binary and apply an X gate to each qubit in `num_1_reg` and `num_2_reg` that corresponds to a binary 1 in the input numbers.\n",
    "5. Subtract the second number from the first number using a quantum ripple-carry subtractor. This is done by looping over each qubit in `num_1_reg` and applying a sequence of controlled operations (CCX, CX) and uncontrolled operations (CX) to `num_1_reg`, `num_2_reg`, and `result_reg`.\n",
    "6. Check if the carry bit in the result of the subtraction is set. This is done by measuring the last qubit in `result_reg` and storing the measurement result in `classical_reg`.\n",
    "7. Simulate the circuit using the QASM simulator backend and obtain the measurement result.\n",
    "8. Determine which input number is larger based on the measurement result. If the carry bit is set, return `number_1`. Otherwise, return `number_2`."
   ]
  }
 ],
 "metadata": {
  "kernelspec": {
   "display_name": "Python 3 (ipykernel)",
   "language": "python",
   "name": "python3"
  },
  "language_info": {
   "codemirror_mode": {
    "name": "ipython",
    "version": 3
   },
   "file_extension": ".py",
   "mimetype": "text/x-python",
   "name": "python",
   "nbconvert_exporter": "python",
   "pygments_lexer": "ipython3",
   "version": "3.9.13"
  },
  "widgets": {
   "application/vnd.jupyter.widget-state+json": {
    "state": {},
    "version_major": 2,
    "version_minor": 0
   }
  }
 },
 "nbformat": 4,
 "nbformat_minor": 5
}
