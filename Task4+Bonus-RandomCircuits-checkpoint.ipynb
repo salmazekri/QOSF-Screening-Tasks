{
 "cells": [
  {
   "cell_type": "markdown",
   "id": "b84ae33e",
   "metadata": {},
   "source": [
    "# Random Circuits + Bonus"
   ]
  },
  {
   "cell_type": "markdown",
   "id": "c782086e",
   "metadata": {},
   "source": [
    "Hello, I am Salma. \n",
    "Please find below my implementation for task 4 modified to include the bonus point annexed to its documentation."
   ]
  },
  {
   "cell_type": "markdown",
   "id": "3fa8c8d8",
   "metadata": {},
   "source": [
    "# Code"
   ]
  },
  {
   "cell_type": "code",
   "execution_count": 6,
   "id": "b3872185-cf0f-45f2-ba0f-359a7d56dd39",
   "metadata": {},
   "outputs": [],
   "source": [
    "import random\n",
    "from qiskit import QuantumCircuit, QuantumRegister\n",
    "from qiskit.circuit import Gate\n",
    "\n",
    "def random_circuit(num_qubits, depth, basis_gates):\n",
    "    assert num_qubits == 6, \"Only 6 qubits circuit is supported\"\n",
    "    qreg = QuantumRegister(num_qubits)\n",
    "    circ = QuantumCircuit(qreg)\n",
    "    connections = [(0, 1), (1, 2), (2, 3), (3,4), (4, 1), (4, 5)]\n",
    "    for d in range(depth):\n",
    "        for conn in connections:\n",
    "            q1, q2 = conn\n",
    "            gate_name = random.choice(basis_gates)\n",
    "            if gate_name in [\"cx\", \"cy\", \"cz\", \"ch\", \"cs\", \"ct\"]:\n",
    "                gate = Gate(gate_name, 2, [])\n",
    "                circ.append(gate, [qreg[q1], qreg[q2]])\n",
    "    return circ\n"
   ]
  },
  {
   "cell_type": "code",
   "execution_count": 9,
   "id": "8d5f8b5c-4fa9-48b1-8045-b211152f69bb",
   "metadata": {},
   "outputs": [
    {
     "data": {
      "image/png": "[encoded data removed]",
      "text/plain": [
       "<Figure size 762.069x385.28 with 1 Axes>"
      ]
     },
     "execution_count": 9,
     "metadata": {},
     "output_type": "execute_result"
    }
   ],
   "source": [
    "circ = random_circuit(6, 2, [\"cx\", \"cy\", \"cz\", \"ch\", \"cs\", \"ct\"])\n",
    "circ.draw()"
   ]
  },
  {
   "cell_type": "markdown",
   "id": "d3bc6afe",
   "metadata": {},
   "source": [
    "# Approach:"
   ]
  },
  {
   "cell_type": "markdown",
   "id": "d6ff679e",
   "metadata": {},
   "source": [
    "The function random_circuit generates a random quantum circuit with six qubits, a specified depth, and a set of basis gates. The function first checks that the number of qubits is six and raises an error if it is not.\n",
    "\n",
    "The function creates a quantum register with the specified number of qubits (in this case, six) and an empty quantum circuit that uses the quantum register. The function then defines a list of connections between qubits, which determines the pairs of qubits on which two-qubit gates will be applied.\n",
    "\n",
    "The function loops over the specified depth and, for each layer, loops over each connection and applies a random two-qubit gate to the two qubits in the connection. The set of possible two-qubit gates is determined by the input list basis_gates, which can include 'cx', 'cy', 'cz', 'ch', 'cs', and 'ct'.\n",
    "\n",
    "Finally, the function returns the random quantum circuit. Note that the function only applies two-qubit gates, and does not apply any single-qubit gates. Also, the function creates Gate objects for the gates that are applied to the circuit, which can be useful for further analysis or manipulation of the circuit.="
   ]
  },
  {
   "cell_type": "markdown",
   "id": "a3e9f9e1",
   "metadata": {},
   "source": [
    "# Documentation"
   ]
  },
  {
   "cell_type": "markdown",
   "id": "c484f305",
   "metadata": {},
   "source": [
    "Inputs:\n",
    "- `num_qubits`: an integer representing the number of qubits in the quantum circuit (only 6 qubits are supported)\n",
    "- `depth`: an integer representing the depth of the circuit (number of layers of gates)\n",
    "- `basis_gates`: a list of strings representing the basis gates to be used in the circuit (allowed gates: 'cx', 'cy', 'cz', 'ch', 'cs', 'ct')\n",
    "\n",
    "Output:\n",
    "- circ: a QuantumCircuit object representing a random quantum circuit of the given number of qubits, depth and basis gates\n",
    "\n",
    "Function Description:\n",
    "The random_circuit function generates a random quantum circuit using a given set of basis gates. The circuit has a fixed number of qubits (6) and a variable depth. \n",
    "\n",
    "The function starts by creating a QuantumRegister object of size num_qubits and a QuantumCircuit object that uses this register. It then defines a set of connections between the qubits, which are hard-coded to [(0, 1), (1, 2), (2, 3), (4, 1), (4, 5)].\n",
    "\n",
    "The function then iterates through each depth of the circuit, and for each connection in the set of connections, selects a random gate from the list of basis gates. If the gate is a two-qubit gate (i.e., cx, cy, cz, ch, cs, ct), it creates a Gate object representing the gate and appends it to the QuantumCircuit object with the corresponding qubits.\n",
    "\n",
    "Finally, the function returns the QuantumCircuit object representing the random circuit. \n",
    "\n",
    "It should be noted that the function uses the Python library 'random' to randomly select the gates from the list of basis gates, and thus the random circuit generated by this function will be different each time it is called."
   ]
  }
 ],
 "metadata": {
  "kernelspec": {
   "display_name": "Python 3 (ipykernel)",
   "language": "python",
   "name": "python3"
  },
  "language_info": {
   "codemirror_mode": {
    "name": "ipython",
    "version": 3
   },
   "file_extension": ".py",
   "mimetype": "text/x-python",
   "name": "python",
   "nbconvert_exporter": "python",
   "pygments_lexer": "ipython3",
   "version": "3.9.13"
  },
  "widgets": {
   "application/vnd.jupyter.widget-state+json": {
    "state": {},
    "version_major": 2,
    "version_minor": 0
   }
  }
 },
 "nbformat": 4,
 "nbformat_minor": 5
}
