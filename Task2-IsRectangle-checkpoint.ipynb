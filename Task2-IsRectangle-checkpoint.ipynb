{
 "cells": [
  {
   "cell_type": "markdown",
   "id": "e62b8e4c",
   "metadata": {},
   "source": [
    "# Is Rectangle?"
   ]
  },
  {
   "cell_type": "markdown",
   "id": "538a32fd",
   "metadata": {},
   "source": [
    "Hello, I am Salma. Please find below my implementation for task 2 annexed to its documentation."
   ]
  },
  {
   "cell_type": "markdown",
   "id": "7683ce25",
   "metadata": {},
   "source": [
    "# Code"
   ]
  },
  {
   "cell_type": "code",
   "execution_count": 11,
   "id": "8f9dea6f-abe1-4d68-8e5b-bc77827fe318",
   "metadata": {},
   "outputs": [
    {
     "name": "stdout",
     "output_type": "stream",
     "text": [
      "0\n",
      "1\n",
      "0\n",
      "1\n"
     ]
    }
   ],
   "source": [
    "import numpy as np\n",
    "\n",
    "def is_rectangle(a: float, b: float, c: float, d: float) -> float:\n",
    "    # Sort the numbers in ascending order\n",
    "    lst = sorted([a, b, c, d])\n",
    "\n",
    "    # Check if the second and third numbers are equal\n",
    "    if lst[1] == lst[2]:\n",
    "        # Swap the second and first numbers\n",
    "        lst[0], lst[1] = lst[1], lst[0]\n",
    "        # Swap the third and second numbers\n",
    "        lst[1], lst[2] = lst[2], lst[1]\n",
    "\n",
    "    # Call the run_experiment4 function with the sorted and swapped list\n",
    "    return algorithm(lst[0], lst[1], lst[2], lst[3])\n",
    "\n",
    "\n",
    "import numpy as np\n",
    "from qiskit import QuantumCircuit, ClassicalRegister, QuantumRegister, BasicAer\n",
    "from qiskit import execute\n",
    "from qiskit.quantum_info import operators as ops\n",
    "\n",
    "def algorithm(a1: float, a2: float,\n",
    "                   b1: float, b2: float) -> int:\n",
    "\n",
    "    # Create quantum and classical registers\n",
    "    ab = QuantumRegister(2, name='ab')\n",
    "    cd = QuantumRegister(2, name='cd')\n",
    "    anc = QuantumRegister(2, name='anc')\n",
    "    c = ClassicalRegister(2, name='c')\n",
    "\n",
    "    # Create the quantum circuit\n",
    "    qc = QuantumCircuit(ab, cd, anc, c)\n",
    "\n",
    "    # Apply the RY gates\n",
    "    qc.ry(2*np.arcsin(a1), ab[0])\n",
    "    qc.ry(2*np.arcsin(a2), ab[1])\n",
    "    qc.ry(2*np.arcsin(b1), cd[0])\n",
    "    qc.ry(2*np.arcsin(b2), cd[1])\n",
    "\n",
    "    # Apply the swap circuit\n",
    "    qc.h(anc)\n",
    "    qc.cswap(anc[0], ab[0], ab[1])\n",
    "    qc.cswap(anc[1], cd[0], cd[1])\n",
    "    qc.h(anc)\n",
    "\n",
    "    # Measure ancilla qubits without collapsing the wavefunction\n",
    "    qc.measure(anc[0], c[0])\n",
    "    qc.measure(anc[1], c[1])\n",
    "\n",
    "    # Execute the circuit and get the measurement results\n",
    "    backend = BasicAer.get_backend('qasm_simulator')\n",
    "    job = execute(qc, backend, shots=1024)\n",
    "    result = job.result()\n",
    "    counts = result.get_counts(qc)\n",
    "\n",
    "    # Calculate and return the result\n",
    "    p0_ab = counts['00'] / 1024\n",
    "    p0_cd = counts['00'] / 1024\n",
    "    #print(f'a1: {a1:.3f} a1: {a2:.3f} b1: {b1:.3f} b2: {b2:.3f}')\n",
    "    #print(f'p0_ab: {p0_ab:.2f} p0_cd: {p0_cd:.2f} ')\n",
    "    \n",
    "    return int(p0_ab==1.00 and p0_cd==1.00)\n",
    "#Testcases:\n",
    "print(is_rectangle(0.1, 0.4, 0.4, 0.2))\n",
    "print(is_rectangle(0.2, 0.4, 0.4, 0.2))\n",
    "print(is_rectangle(0.3, 0.3, 0.4, 0.2))\n",
    "print(is_rectangle(0.1, 0.1, 0.4, 0.4))\n",
    "\n",
    "\n",
    "\n"
   ]
  },
  {
   "cell_type": "markdown",
   "id": "82cd3823",
   "metadata": {},
   "source": [
    "# Approach"
   ]
  },
  {
   "cell_type": "markdown",
   "id": "51285cca",
   "metadata": {},
   "source": [
    "To figure out if the function parameters can form sides for a rectangle, I am performing a swap test to find whether two pairs of sides are equal.\n",
    "\n",
    "The purpose of this function is to simulate a quantum circuit that performs a swap test between two qubits labeled `ab` and `cd`. \n",
    "\n",
    "The circuit then measures the ancilla qubits labeled `anc` and returns the probability of obtaining the result `00` for both \n",
    "`anc` qubits."
   ]
  },
  {
   "cell_type": "markdown",
   "id": "3726c11e",
   "metadata": {},
   "source": [
    "#### Here is the swap test circuit for two qubits:"
   ]
  },
  {
   "cell_type": "code",
   "execution_count": 12,
   "id": "2807e3f3",
   "metadata": {},
   "outputs": [],
   "source": [
    " #  |0> --- H --- o --- H --- Measure\n",
    " #                |\n",
    " #  a1  --------- x ---------\n",
    " #                |\n",
    " #  a2  ----------x ---------"
   ]
  },
  {
   "cell_type": "markdown",
   "id": "a2750697",
   "metadata": {},
   "source": [
    "# Documentation"
   ]
  },
  {
   "cell_type": "markdown",
   "id": "9a0b9c89",
   "metadata": {},
   "source": [
    "## Preprocessing"
   ]
  },
  {
   "cell_type": "markdown",
   "id": "6b6b787f",
   "metadata": {},
   "source": [
    "First, I had to preprocess the input paramaters by rearranging them since my logic for finding out if the given sides can form a rectangle is through checking if the first pair of input are equal and the second pair of input are equal, using a quantum circuit. \n",
    "\n",
    "For clean code purposes, I am calling the function which implements the logic of is_rectangle `algorithm` from within the primary function which handles preprocessing."
   ]
  },
  {
   "cell_type": "markdown",
   "id": "88b45c39",
   "metadata": {},
   "source": [
    "## Simulating The Quantum Circuit"
   ]
  },
  {
   "cell_type": "markdown",
   "id": "4d84b001",
   "metadata": {},
   "source": [
    "Function `find_the_largest_number` takes in four float values: `a`, `b`, `c`, and `d` as inputs and returns a float value. It also has a type hinting of the return value, \n",
    "indicating that the output is a floating-point number.\n",
    "\n",
    "#### Here's a step-by-step breakdown of the function `algorithm`:\n",
    "\n",
    "1. The function first initializes four quantum registers: `ab`, `cd`, `anc`, and a classical register `c` using the `QuantumRegister` and `ClassicalRegister` classes from the Qiskit\n",
    "library. The `ab`, `cd`, and `anc` registers each have two qubits, and the `c` register has two classical bits.\n",
    "\n",
    "2. A quantum circuit is created using the `QuantumCircuit` class from the Qiskit library, and the previously created registers are passed to the constructor.\n",
    "\n",
    "3. The `RY` gates are applied to the `ab` and `cd` qubits. The angles of the gates are computed using the numpy library, where the arcsine of `a1`, `a2`, `b1`, and `b2` is \n",
    "multiplied by two.\n",
    "\n",
    "4. The swap circuit is then applied to the `anc`, `ab`, and `cd` qubits. The `H` (Hadamard) gate is applied to the `anc` register. The `cswap` (controlled swap) gate is applied between `anc[0]` and `ab[0], ab[1]` and between `anc[1]` and `cd[0], cd[1]`. Finally, the `H` gate is applied again to the `anc` register.\n",
    "\n",
    "5. The ancilla qubits are then measured using the `measure` method of the quantum circuit. The measurement is stored in the `c` classical register.\n",
    "\n",
    "6. The circuit is executed using the `execute` method, which takes the quantum circuit, a backend (`qasm_simulator` in this case), and the number of shots (`1024` in this case) as arguments.\n",
    "\n",
    "7. The results of the execution are obtained using the `result` method, and the counts of the measurement outcomes are obtained using the `get_counts` method.\n",
    "\n",
    "8. The probabilities of obtaining the `00` result for the `anc` qubits are calculated using the counts obtained in step 7, and the result is returned as a floating-point number."
   ]
  },
  {
   "cell_type": "markdown",
   "id": "d3a9a67b",
   "metadata": {},
   "source": [
    "## Resemblance of the output: \n",
    "if the probability of obtaining `00` is 1 for `ab` and `cd` qubits, it means that 2 pairs of sides were found to be equal, hence, it is a rectangle!"
   ]
  },
  {
   "cell_type": "markdown",
   "id": "79b5a2b6",
   "metadata": {},
   "source": [
    "##### Note that the output is correct for every possible test-case where the input parameters are bounded between 0 and 1."
   ]
  }
 ],
 "metadata": {
  "kernelspec": {
   "display_name": "Python 3 (ipykernel)",
   "language": "python",
   "name": "python3"
  },
  "language_info": {
   "codemirror_mode": {
    "name": "ipython",
    "version": 3
   },
   "file_extension": ".py",
   "mimetype": "text/x-python",
   "name": "python",
   "nbconvert_exporter": "python",
   "pygments_lexer": "ipython3",
   "version": "3.9.13"
  },
  "widgets": {
   "application/vnd.jupyter.widget-state+json": {
    "state": {},
    "version_major": 2,
    "version_minor": 0
   }
  }
 },
 "nbformat": 4,
 "nbformat_minor": 5
}
