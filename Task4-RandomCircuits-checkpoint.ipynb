{
 "cells": [
  {
   "cell_type": "markdown",
   "id": "e8469763",
   "metadata": {},
   "source": [
    "# Random Circuits"
   ]
  },
  {
   "cell_type": "markdown",
   "id": "018ed182",
   "metadata": {},
   "source": [
    "Hello, I am Salma. \n",
    "Please find below my implementation for task 4 annexed to its documentation."
   ]
  },
  {
   "cell_type": "markdown",
   "id": "fd4b8f24",
   "metadata": {},
   "source": [
    "# Code"
   ]
  },
  {
   "cell_type": "code",
   "execution_count": 6,
   "id": "ca7053fa-ddd5-4c2d-af01-49d56a2fbc94",
   "metadata": {},
   "outputs": [],
   "source": [
    "from qiskit import QuantumCircuit\n",
    "import random\n",
    "\n",
    "def random_circuit(num_qubits, depth, basis_gates):\n",
    "    # Create an empty quantum circuit with the specified number of qubits\n",
    "    circuit = QuantumCircuit(num_qubits)\n",
    "    \n",
    "    # Loop over the specified depth\n",
    "    for d in range(depth):\n",
    "        # Loop over each qubit in the circuit\n",
    "        for q in range(num_qubits):\n",
    "            # Apply a random single-qubit gate to the qubit\n",
    "            gate = random.choice(basis_gates)\n",
    "            if gate == 'x':\n",
    "                circuit.x(q)\n",
    "            elif gate == 'y':\n",
    "                circuit.y(q)\n",
    "            elif gate == 'z':\n",
    "                circuit.z(q)\n",
    "            elif gate == 'h':\n",
    "                circuit.h(q)\n",
    "            elif gate == 's':\n",
    "                circuit.s(q)\n",
    "            elif gate == 't':\n",
    "                circuit.t(q)\n",
    "                \n",
    "            # Apply a random two-qubit gate to a randomly chosen pair of qubits\n",
    "            if num_qubits >= 2:\n",
    "                gate = random.choice(basis_gates)\n",
    "                q1, q2 = random.sample(range(num_qubits), 2)\n",
    "                if gate == 'cx':\n",
    "                    circuit.cx(q1, q2)\n",
    "                elif gate == 'cz':\n",
    "                    circuit.cz(q1, q2)\n",
    "                elif gate == 'cs':\n",
    "                    circuit.cs(q1, q2)\n",
    "                elif gate == 'ch':\n",
    "                    circuit.ch(q1, q2)\n",
    "    \n",
    "    return circuit"
   ]
  },
  {
   "cell_type": "code",
   "execution_count": 7,
   "id": "4c0e1005-945a-4fa8-8860-e784831f245e",
   "metadata": {},
   "outputs": [
    {
     "name": "stdout",
     "output_type": "stream",
     "text": [
      "     ┌───┐     ┌───┐     ┌───┐┌───┐          ┌───┐          ┌───┐┌───┐\n",
      "q_0: ┤ S ├─────┤ S ├─────┤ X ├┤ X ├──■────■──┤ X ├──────────┤ H ├┤ H ├\n",
      "     └─┬─┘┌───┐└─┬─┘┌───┐└─┬─┘└─┬─┘  │    │  └───┘     ┌───┐└─┬─┘└─┬─┘\n",
      "q_1: ──┼──┤ S ├──┼──┤ Y ├──┼────┼────┼────┼────────────┤ X ├──┼────■──\n",
      "       │  └─┬─┘  │  └───┘  │    │  ┌─┴─┐  │       ┌───┐└─┬─┘  │       \n",
      "q_2: ──┼────■────┼─────────┼────■──┤ X ├──┼───────┤ X ├──┼────■───────\n",
      "       │         │         │       └───┘┌─┴─┐┌───┐└─┬─┘  │  ┌───┐     \n",
      "q_3: ──■─────────■─────────■────────────┤ X ├┤ X ├──■────■──┤ Y ├─────\n",
      "                                        └───┘└───┘          └───┘     \n"
     ]
    },
    {
     "data": {
      "image/png": "[encoded data removed]",
      "text/plain": [
       "<Figure size 869.197x264.88 with 1 Axes>"
      ]
     },
     "execution_count": 7,
     "metadata": {},
     "output_type": "execute_result"
    }
   ],
   "source": [
    "qc = random_circuit(num_qubits=4, depth=3, basis_gates=['x', 'y', 'z', 'cx','cs','ch'])\n",
    "print(qc)\n",
    "qc.draw()"
   ]
  },
  {
   "cell_type": "markdown",
   "id": "c048d885",
   "metadata": {},
   "source": [
    "# Approach "
   ]
  },
  {
   "cell_type": "markdown",
   "id": "ccc8cadc",
   "metadata": {},
   "source": [
    "The function random_circuit generates a random quantum circuit with a specified number of qubits, depth, and set of basis gates. \n",
    "\n",
    "The function starts by creating an empty quantum circuit with the specified number of qubits. It then loops over the specified depth and, for each layer, applies a random single-qubit gate to each qubit in the circuit. The set of possible single-qubit gates is determined by the input list basis_gates, which can include 'x', 'y', 'z', 'h', 's', and 't'. \n",
    "\n",
    "After applying the single-qubit gates, the function applies a random two-qubit gate to a randomly chosen pair of qubits (if there are at least two qubits in the circuit). The set of possible two-qubit gates is also determined by basis_gates, and can include 'cx', 'cz', 'cs', and 'ch'.\n",
    "\n",
    "Finally, the function returns the random quantum circuit."
   ]
  },
  {
   "cell_type": "markdown",
   "id": "efe1f20c",
   "metadata": {},
   "source": [
    "# Documentation"
   ]
  },
  {
   "cell_type": "markdown",
   "id": "afdffbab",
   "metadata": {},
   "source": [
    "Function Name: random_circuit\n",
    "\n",
    "Inputs:\n",
    "- `num_qubits`: an integer representing the number of qubits in the quantum circuit\n",
    "- `depth`: an integer representing the depth of the circuit (number of layers of gates)\n",
    "- `basis_gates`: a list of strings representing the basis gates to be used in the circuit (allowed gates: 'x', 'y', 'z', 'h', 's', 't', 'cx', 'cz', 'cs', 'ch')\n",
    "\n",
    "Output:\n",
    "- circuit: a QuantumCircuit object representing a random quantum circuit of the given number of qubits, depth and basis gates\n",
    "\n",
    "Function Description:\n",
    "The random_circuit function generates a random quantum circuit using a given set of basis gates. The circuit has a variable number of qubits and a variable depth. \n",
    "\n",
    "The function starts by creating an empty QuantumCircuit object with the specified number of qubits. \n",
    "\n",
    "The function then iterates through each depth of the circuit, and for each qubit in the circuit, selects a random gate from the list of basis gates. If the gate is a single-qubit gate (i.e., x, y, z, h, s, t), it applies the gate to the qubit. \n",
    "\n",
    "The function then selects a random pair of qubits (if num_qubits >= 2) and a random two-qubit gate from the list of basis gates. If the gate is a two-qubit gate (i.e., cx, cz, cs, ch), it applies the gate to the pair of qubits. \n",
    "\n",
    "Finally, the function returns the QuantumCircuit object representing the random circuit. \n",
    "\n",
    "It should be noted that the function uses the Python library 'random' to randomly select the gates from the list of basis gates, and thus the random circuit generated by this function will be different each time it is called. Additionally, the function does not enforce any constraints on the selection of gates, and thus it is possible to generate circuits that are not valid or useful for any particular application."
   ]
  }
 ],
 "metadata": {
  "kernelspec": {
   "display_name": "Python 3 (ipykernel)",
   "language": "python",
   "name": "python3"
  },
  "language_info": {
   "codemirror_mode": {
    "name": "ipython",
    "version": 3
   },
   "file_extension": ".py",
   "mimetype": "text/x-python",
   "name": "python",
   "nbconvert_exporter": "python",
   "pygments_lexer": "ipython3",
   "version": "3.9.13"
  },
  "widgets": {
   "application/vnd.jupyter.widget-state+json": {
    "state": {},
    "version_major": 2,
    "version_minor": 0
   }
  }
 },
 "nbformat": 4,
 "nbformat_minor": 5
}
